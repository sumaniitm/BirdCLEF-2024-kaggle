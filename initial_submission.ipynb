{
 "cells": [
  {
   "cell_type": "code",
   "execution_count": 1,
   "id": "3c5763c6",
   "metadata": {
    "execution": {
     "iopub.execute_input": "2024-04-12T16:46:31.558185Z",
     "iopub.status.busy": "2024-04-12T16:46:31.557592Z",
     "iopub.status.idle": "2024-04-12T16:46:32.972650Z",
     "shell.execute_reply": "2024-04-12T16:46:32.971283Z"
    },
    "papermill": {
     "duration": 1.425694,
     "end_time": "2024-04-12T16:46:32.975864",
     "exception": false,
     "start_time": "2024-04-12T16:46:31.550170",
     "status": "completed"
    },
    "tags": []
   },
   "outputs": [],
   "source": [
    "import numpy as np # linear algebra\n",
    "import pandas as pd # data processing, CSV file I/O (e.g. pd.read_csv)\n",
    "#import duckdb as dd\n",
    "import polars as pl\n",
    "import os\n",
    "import glob\n",
    "import shutil\n",
    "import zipfile\n",
    "import pickle\n",
    "from joblib import dump, load\n",
    "from pathlib import Path"
   ]
  },
  {
   "cell_type": "code",
   "execution_count": 2,
   "id": "ba559e6c",
   "metadata": {
    "execution": {
     "iopub.execute_input": "2024-04-12T16:46:32.986997Z",
     "iopub.status.busy": "2024-04-12T16:46:32.986330Z",
     "iopub.status.idle": "2024-04-12T16:47:12.031360Z",
     "shell.execute_reply": "2024-04-12T16:47:12.030146Z"
    },
    "papermill": {
     "duration": 39.053977,
     "end_time": "2024-04-12T16:47:12.034421",
     "exception": false,
     "start_time": "2024-04-12T16:46:32.980444",
     "status": "completed"
    },
    "tags": []
   },
   "outputs": [],
   "source": [
    "random_forest_model = load('/kaggle/input/trained-audio-model-v-01/audio_classifier_model.joblib')"
   ]
  },
  {
   "cell_type": "code",
   "execution_count": 3,
   "id": "03fbc317",
   "metadata": {
    "execution": {
     "iopub.execute_input": "2024-04-12T16:47:12.045634Z",
     "iopub.status.busy": "2024-04-12T16:47:12.044889Z",
     "iopub.status.idle": "2024-04-12T16:47:12.248318Z",
     "shell.execute_reply": "2024-04-12T16:47:12.246750Z"
    },
    "papermill": {
     "duration": 0.212823,
     "end_time": "2024-04-12T16:47:12.251753",
     "exception": false,
     "start_time": "2024-04-12T16:47:12.038930",
     "status": "completed"
    },
    "tags": []
   },
   "outputs": [
    {
     "data": {
      "text/plain": [
       "['primary_label',\n",
       " 'secondary_labels',\n",
       " 'type',\n",
       " 'latitude',\n",
       " 'longitude',\n",
       " 'scientific_name',\n",
       " 'common_name',\n",
       " 'author',\n",
       " 'license',\n",
       " 'rating',\n",
       " 'url',\n",
       " 'filename']"
      ]
     },
     "execution_count": 3,
     "metadata": {},
     "output_type": "execute_result"
    }
   ],
   "source": [
    "meta_data = pl.read_csv('/kaggle/input/birdclef-2024/train_metadata.csv', low_memory=True)\n",
    "list(meta_data.columns)"
   ]
  },
  {
   "cell_type": "code",
   "execution_count": 4,
   "id": "9c8dccd7",
   "metadata": {
    "execution": {
     "iopub.execute_input": "2024-04-12T16:47:12.264657Z",
     "iopub.status.busy": "2024-04-12T16:47:12.263785Z",
     "iopub.status.idle": "2024-04-12T16:47:12.313827Z",
     "shell.execute_reply": "2024-04-12T16:47:12.312461Z"
    },
    "papermill": {
     "duration": 0.060089,
     "end_time": "2024-04-12T16:47:12.317045",
     "exception": false,
     "start_time": "2024-04-12T16:47:12.256956",
     "status": "completed"
    },
    "tags": []
   },
   "outputs": [],
   "source": [
    "bird_cols = list(meta_data['primary_label'].unique().sort())"
   ]
  },
  {
   "cell_type": "code",
   "execution_count": 5,
   "id": "1adffb86",
   "metadata": {
    "execution": {
     "iopub.execute_input": "2024-04-12T16:47:12.328439Z",
     "iopub.status.busy": "2024-04-12T16:47:12.327915Z",
     "iopub.status.idle": "2024-04-12T16:47:12.337347Z",
     "shell.execute_reply": "2024-04-12T16:47:12.336052Z"
    },
    "papermill": {
     "duration": 0.018568,
     "end_time": "2024-04-12T16:47:12.340280",
     "exception": false,
     "start_time": "2024-04-12T16:47:12.321712",
     "status": "completed"
    },
    "tags": []
   },
   "outputs": [],
   "source": [
    "test_soundscapes = '/kaggle/input/birdclef-2024/test_soundscapes'\n",
    "\n",
    "for path in Path(test_soundscapes).glob(\"*.ogg\"):\n",
    "    print(path)\n",
    "    print(path.stem)\n",
    "    print(path.stem.split(\"_\"))"
   ]
  },
  {
   "cell_type": "code",
   "execution_count": 6,
   "id": "1886e8f1",
   "metadata": {
    "execution": {
     "iopub.execute_input": "2024-04-12T16:47:12.351723Z",
     "iopub.status.busy": "2024-04-12T16:47:12.351276Z",
     "iopub.status.idle": "2024-04-12T16:47:12.378700Z",
     "shell.execute_reply": "2024-04-12T16:47:12.376895Z"
    },
    "papermill": {
     "duration": 0.03633,
     "end_time": "2024-04-12T16:47:12.381551",
     "exception": false,
     "start_time": "2024-04-12T16:47:12.345221",
     "status": "completed"
    },
    "tags": []
   },
   "outputs": [
    {
     "name": "stdout",
     "output_type": "stream",
     "text": [
      "(0, 4)\n"
     ]
    },
    {
     "data": {
      "text/html": [
       "<div>\n",
       "<style scoped>\n",
       "    .dataframe tbody tr th:only-of-type {\n",
       "        vertical-align: middle;\n",
       "    }\n",
       "\n",
       "    .dataframe tbody tr th {\n",
       "        vertical-align: top;\n",
       "    }\n",
       "\n",
       "    .dataframe thead th {\n",
       "        text-align: right;\n",
       "    }\n",
       "</style>\n",
       "<table border=\"1\" class=\"dataframe\">\n",
       "  <thead>\n",
       "    <tr style=\"text-align: right;\">\n",
       "      <th></th>\n",
       "      <th>filename</th>\n",
       "      <th>name</th>\n",
       "      <th>id</th>\n",
       "      <th>path</th>\n",
       "    </tr>\n",
       "  </thead>\n",
       "  <tbody>\n",
       "  </tbody>\n",
       "</table>\n",
       "</div>"
      ],
      "text/plain": [
       "Empty DataFrame\n",
       "Columns: [filename, name, id, path]\n",
       "Index: []"
      ]
     },
     "execution_count": 6,
     "metadata": {},
     "output_type": "execute_result"
    }
   ],
   "source": [
    "test = pd.DataFrame(\n",
    "     [(path.stem, *path.stem.split(\"_\"), path) for path in Path(test_soundscapes).glob(\"*.ogg\")],\n",
    "    columns = [\"filename\", \"name\" ,\"id\", \"path\"]\n",
    ")\n",
    "print(test.shape)\n",
    "test.head()"
   ]
  },
  {
   "cell_type": "code",
   "execution_count": 7,
   "id": "364843a0",
   "metadata": {
    "execution": {
     "iopub.execute_input": "2024-04-12T16:47:12.393328Z",
     "iopub.status.busy": "2024-04-12T16:47:12.392866Z",
     "iopub.status.idle": "2024-04-12T16:47:12.425831Z",
     "shell.execute_reply": "2024-04-12T16:47:12.424216Z"
    },
    "papermill": {
     "duration": 0.042466,
     "end_time": "2024-04-12T16:47:12.428889",
     "exception": false,
     "start_time": "2024-04-12T16:47:12.386423",
     "status": "completed"
    },
    "tags": []
   },
   "outputs": [
    {
     "data": {
      "text/html": [
       "<div>\n",
       "<style scoped>\n",
       "    .dataframe tbody tr th:only-of-type {\n",
       "        vertical-align: middle;\n",
       "    }\n",
       "\n",
       "    .dataframe tbody tr th {\n",
       "        vertical-align: top;\n",
       "    }\n",
       "\n",
       "    .dataframe thead th {\n",
       "        text-align: right;\n",
       "    }\n",
       "</style>\n",
       "<table border=\"1\" class=\"dataframe\">\n",
       "  <thead>\n",
       "    <tr style=\"text-align: right;\">\n",
       "      <th></th>\n",
       "      <th>row_id</th>\n",
       "      <th>asbfly</th>\n",
       "      <th>ashdro1</th>\n",
       "      <th>ashpri1</th>\n",
       "      <th>ashwoo2</th>\n",
       "      <th>asikoe2</th>\n",
       "      <th>asiope1</th>\n",
       "      <th>aspfly1</th>\n",
       "      <th>aspswi1</th>\n",
       "      <th>barfly1</th>\n",
       "      <th>...</th>\n",
       "      <th>whbwoo2</th>\n",
       "      <th>whcbar1</th>\n",
       "      <th>whiter2</th>\n",
       "      <th>whrmun</th>\n",
       "      <th>whtkin2</th>\n",
       "      <th>woosan</th>\n",
       "      <th>wynlau1</th>\n",
       "      <th>yebbab1</th>\n",
       "      <th>yebbul3</th>\n",
       "      <th>zitcis1</th>\n",
       "    </tr>\n",
       "  </thead>\n",
       "  <tbody>\n",
       "  </tbody>\n",
       "</table>\n",
       "<p>0 rows × 183 columns</p>\n",
       "</div>"
      ],
      "text/plain": [
       "Empty DataFrame\n",
       "Columns: [row_id, asbfly, ashdro1, ashpri1, ashwoo2, asikoe2, asiope1, aspfly1, aspswi1, barfly1, barswa, bcnher, bkcbul1, bkrfla1, bkskit1, bkwsti, bladro1, blaeag1, blakit1, blhori1, blnmon1, blrwar1, bncwoo3, brakit1, brasta1, brcful1, brfowl1, brnhao1, brnshr, brodro1, brwjac1, brwowl1, btbeat1, bwfshr1, categr, chbeat1, cohcuc1, comfla1, comgre, comior1, comkin1, commoo3, commyn, compea, comros, comsan, comtai1, copbar1, crbsun2, cregos1, crfbar1, crseag1, dafbab1, darter2, eaywag1, emedov2, eucdov, eurbla2, eurcoo, forwag1, gargan, gloibi, goflea1, graher1, grbeat1, grecou1, greegr, grefla1, grehor1, grejun2, grenig1, grewar3, grnsan, grnwar1, grtdro1, gryfra, grynig2, grywag, gybpri1, gyhcaf1, heswoo1, hoopoe, houcro1, houspa, inbrob1, indpit1, indrob1, indrol2, indtit1, ingori1, inpher1, insbab1, insowl1, integr, isbduc1, jerbus2, junbab2, junmyn1, junowl1, kenplo1, ...]\n",
       "Index: []\n",
       "\n",
       "[0 rows x 183 columns]"
      ]
     },
     "execution_count": 7,
     "metadata": {},
     "output_type": "execute_result"
    }
   ],
   "source": [
    "filenames = test.filename.values.tolist()\n",
    "\n",
    "submission_df = pd.DataFrame(columns=['row_id']+bird_cols)\n",
    "submission_df"
   ]
  },
  {
   "cell_type": "code",
   "execution_count": 8,
   "id": "b398e433",
   "metadata": {
    "execution": {
     "iopub.execute_input": "2024-04-12T16:47:12.442130Z",
     "iopub.status.busy": "2024-04-12T16:47:12.441573Z",
     "iopub.status.idle": "2024-04-12T16:47:12.450011Z",
     "shell.execute_reply": "2024-04-12T16:47:12.448439Z"
    },
    "papermill": {
     "duration": 0.01874,
     "end_time": "2024-04-12T16:47:12.452873",
     "exception": false,
     "start_time": "2024-04-12T16:47:12.434133",
     "status": "completed"
    },
    "tags": []
   },
   "outputs": [],
   "source": [
    "for i, file in enumerate(filenames):\n",
    "    predicted = random_forest_model.predict_proba[i]\n",
    "    num_rows = len(predicted)\n",
    "    row_ids = [f'{file}_{(i+1)*5}' for i in range(num_rows)]\n",
    "    df = pd.DataFrame(columns=['row_id']+bird_cols)\n",
    "    \n",
    "    df['row_id'] = row_ids\n",
    "    df[bird_cols] = predicted\n",
    "    \n",
    "    submission_df = pd.concat([submission_df,df]).reset_index(drop=True)\n",
    "    submission_df"
   ]
  },
  {
   "cell_type": "code",
   "execution_count": 9,
   "id": "4d8d0db4",
   "metadata": {
    "execution": {
     "iopub.execute_input": "2024-04-12T16:47:12.467613Z",
     "iopub.status.busy": "2024-04-12T16:47:12.467158Z",
     "iopub.status.idle": "2024-04-12T16:47:12.476600Z",
     "shell.execute_reply": "2024-04-12T16:47:12.475400Z"
    },
    "papermill": {
     "duration": 0.02081,
     "end_time": "2024-04-12T16:47:12.479882",
     "exception": false,
     "start_time": "2024-04-12T16:47:12.459072",
     "status": "completed"
    },
    "tags": []
   },
   "outputs": [],
   "source": [
    "submission_df.to_csv('submission.csv', index=False)"
   ]
  }
 ],
 "metadata": {
  "kaggle": {
   "accelerator": "none",
   "dataSources": [
    {
     "databundleVersionId": 8068726,
     "sourceId": 70203,
     "sourceType": "competition"
    },
    {
     "datasetId": 4751605,
     "sourceId": 8056263,
     "sourceType": "datasetVersion"
    },
    {
     "datasetId": 4767916,
     "sourceId": 8078683,
     "sourceType": "datasetVersion"
    },
    {
     "datasetId": 4773843,
     "sourceId": 8086954,
     "sourceType": "datasetVersion"
    }
   ],
   "dockerImageVersionId": 30673,
   "isGpuEnabled": false,
   "isInternetEnabled": false,
   "language": "python",
   "sourceType": "notebook"
  },
  "kernelspec": {
   "display_name": "Python 3",
   "language": "python",
   "name": "python3"
  },
  "language_info": {
   "codemirror_mode": {
    "name": "ipython",
    "version": 3
   },
   "file_extension": ".py",
   "mimetype": "text/x-python",
   "name": "python",
   "nbconvert_exporter": "python",
   "pygments_lexer": "ipython3",
   "version": "3.10.13"
  },
  "papermill": {
   "default_parameters": {},
   "duration": 45.492963,
   "end_time": "2024-04-12T16:47:13.613531",
   "environment_variables": {},
   "exception": null,
   "input_path": "__notebook__.ipynb",
   "output_path": "__notebook__.ipynb",
   "parameters": {},
   "start_time": "2024-04-12T16:46:28.120568",
   "version": "2.5.0"
  }
 },
 "nbformat": 4,
 "nbformat_minor": 5
}
